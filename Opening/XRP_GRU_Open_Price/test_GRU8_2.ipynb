{
 "cells": [
  {
   "cell_type": "code",
   "execution_count": 1,
   "metadata": {},
   "outputs": [],
   "source": [
    "%matplotlib inline\n",
    "import numpy as np\n",
    "import pandas as pd\n",
    "import warnings\n",
    "warnings.filterwarnings('ignore')\n",
    "import matplotlib.pyplot as plt\n",
    "from sklearn.metrics import mean_squared_error\n",
    "from sklearn.preprocessing import MinMaxScaler\n",
    "from sklearn.metrics import mean_absolute_error, mean_squared_error, mean_absolute_percentage_error,r2_score\n",
    "from tensorflow import keras"
   ]
  },
  {
   "cell_type": "code",
   "execution_count": 2,
   "metadata": {},
   "outputs": [],
   "source": [
    "stock=\"xrp\"\n",
    "model = keras.models.load_model(f'{stock}82.h5')\n",
    "df=pd.read_csv('xrp_test_8_2.csv')\n",
    "df = pd.DataFrame(df)"
   ]
  },
  {
   "cell_type": "code",
   "execution_count": 3,
   "metadata": {},
   "outputs": [],
   "source": [
    "df['H-L'] = df['High'] - df['Low']\n",
    "df['O-C'] = df['Open'] - df['Close']\n",
    "ma_1 = 7\n",
    "ma_2 = 14\n",
    "ma_3 = 21\n",
    "\n",
    "df[f'SMA_{ma_1}'] = df['Open'].rolling(window=ma_1).mean()\n",
    "df[f'SMA_{ma_2}'] = df['Open'].rolling(window=ma_2).mean()\n",
    "df[f'SMA_{ma_3}'] = df['Open'].rolling(window=ma_3).mean()\n",
    "\n",
    "df[f'SD_{ma_1}'] = df['Open'].rolling(window=ma_1).std()\n",
    "df[f'SD_{ma_3}'] = df['Open'].rolling(window=ma_3).std()\n",
    "df.dropna(inplace=True)"
   ]
  },
  {
   "cell_type": "code",
   "execution_count": 4,
   "metadata": {},
   "outputs": [],
   "source": [
    "scala_x = MinMaxScaler()\n",
    "scala_y = MinMaxScaler()\n",
    "cols_x = ['H-L', 'O-C', f'SMA_{ma_1}', f'SMA_{ma_2}', f'SMA_{ma_3}', f'SD_{ma_1}', f'SD_{ma_3}']\n",
    "cols_y = ['Open']\n",
    "scaled_data_x = scala_x.fit_transform(df[cols_x].values.reshape(-1, len(cols_x)))\n",
    "scaled_data_y = scala_y.fit_transform(df[cols_y].values.reshape(-1, len(cols_y)))"
   ]
  },
  {
   "cell_type": "code",
   "execution_count": 5,
   "metadata": {},
   "outputs": [],
   "source": [
    "x_total = []\n",
    "y_total = []\n",
    "pre_day=30\n",
    "for i in range(pre_day, len(df)):\n",
    "    x_total.append(scaled_data_x[i-pre_day:i])\n",
    "    y_total.append(scaled_data_y[i])\n",
    "x_test = np.array(x_total)\n",
    "y_test = np.array(y_total)"
   ]
  },
  {
   "cell_type": "code",
   "execution_count": 6,
   "metadata": {},
   "outputs": [
    {
     "name": "stdout",
     "output_type": "stream",
     "text": [
      "3/3 [==============================] - 2s 14ms/step\n"
     ]
    },
    {
     "data": {
      "image/png": "[encoded data removed]",
      "text/plain": [
       "<Figure size 432x288 with 1 Axes>"
      ]
     },
     "metadata": {
      "needs_background": "light"
     },
     "output_type": "display_data"
    }
   ],
   "source": [
    "predict_prices = model.predict(x_test)\n",
    "predict_prices=scala_y.inverse_transform(predict_prices)\n",
    "y_test=scala_y.inverse_transform(y_test)\n",
    "\n",
    "plt.plot(y_test, color=\"red\", label=f\"Real {stock} Prices\")\n",
    "plt.plot(predict_prices, color=\"blue\", label=f\"Predicted {stock} Prices\")\n",
    "plt.title(f\"{stock} Prices\")\n",
    "plt.xlabel(\"Time\")\n",
    "plt.ylabel(\"Stock Prices\")\n",
    "plt.ylim(bottom=0)\n",
    "plt.legend()\n",
    "plt.show()\n",
    "plt.close()"
   ]
  },
  {
   "cell_type": "code",
   "execution_count": 7,
   "metadata": {},
   "outputs": [
    {
     "name": "stdout",
     "output_type": "stream",
     "text": [
      "MAE: 0.21\n",
      "MAPE: 48.27%\n",
      "MSE: 0.04\n",
      "RMSE: 0.21\n",
      "R2: -1.35\n"
     ]
    }
   ],
   "source": [
    "mae = mean_absolute_error(predict_prices,y_test)\n",
    "mape = mean_absolute_percentage_error(predict_prices,y_test)\n",
    "mse = mean_squared_error(predict_prices,y_test)\n",
    "r2 = r2_score(predict_prices,y_test)\n",
    "rmse = np.sqrt(mse)\n",
    "\n",
    "print(f\"MAE: {mae:.2f}\")\n",
    "print(f\"MAPE: {mape * 100:.2f}%\")\n",
    "print(f\"MSE: {mse:.2f}\")\n",
    "print(f\"RMSE: {rmse:.2f}\")\n",
    "print(f\"R2: {r2:.2f}\")"
   ]
  }
 ],
 "metadata": {
  "kernelspec": {
   "display_name": "Python 3.9.12 ('base')",
   "language": "python",
   "name": "python3"
  },
  "language_info": {
   "codemirror_mode": {
    "name": "ipython",
    "version": 3
   },
   "file_extension": ".py",
   "mimetype": "text/x-python",
   "name": "python",
   "nbconvert_exporter": "python",
   "pygments_lexer": "ipython3",
   "version": "3.9.12"
  },
  "orig_nbformat": 4,
  "vscode": {
   "interpreter": {
    "hash": "89c39a72187b3fa6cc17a74763d72fa26a4fa6bc2bb746ac1d886355e3c795f3"
   }
  }
 },
 "nbformat": 4,
 "nbformat_minor": 2
}
